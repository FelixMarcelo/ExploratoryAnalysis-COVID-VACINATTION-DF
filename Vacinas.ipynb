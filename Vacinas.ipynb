{
 "cells": [
  {
   "cell_type": "markdown",
   "metadata": {},
   "source": [
    "### Import and prepare vaccination data to merge it into Covid cases dataset"
   ]
  },
  {
   "cell_type": "code",
   "execution_count": 2,
   "metadata": {},
   "outputs": [],
   "source": [
    "#### Import libraries #### \n",
    "\n",
    "## for data\n",
    "import pandas as pd\n",
    "import numpy as np\n",
    "\n",
    "## for plotting\n",
    "import matplotlib.pyplot as plt\n",
    "import seaborn as sns\n",
    "import ipywidgets as widgets\n",
    "import plotly.express as px\n",
    "import plotly.graph_objects as go\n",
    "from dash import Dash, dcc, html, Input, Output\n",
    "import missingno as msno\n",
    "\n",
    "## for statistical tests\n",
    "import scipy\n",
    "import statsmodels.formula.api as smf\n",
    "import statsmodels.api as sm"
   ]
  },
  {
   "cell_type": "code",
   "execution_count": 4,
   "metadata": {},
   "outputs": [
    {
     "name": "stderr",
     "output_type": "stream",
     "text": [
      "C:\\Users\\Marcelo\\anaconda3\\lib\\site-packages\\IPython\\core\\interactiveshell.py:3146: DtypeWarning: Columns (7,8) have mixed types.Specify dtype option on import or set low_memory=False.\n",
      "  has_raised = await self.run_ast_nodes(code_ast.body, cell_name,\n"
     ]
    }
   ],
   "source": [
    "# read three csv files containing all data available regarding to vaccination in Federal District\n",
    "df_part0 = pd.read_csv(\"part-3.csv\", sep = \";\")\n",
    "df_part1 = pd.read_csv(\"part-1.csv\", sep = \";\")\n",
    "df_part2 = pd.read_csv(\"part-2.csv\", sep = \";\")"
   ]
  },
  {
   "cell_type": "code",
   "execution_count": 5,
   "metadata": {},
   "outputs": [],
   "source": [
    "# set dtype of date variable\n",
    "df_part0['vacina_dataAplicacao'] = pd.to_datetime(df_part0['vacina_dataAplicacao'])\n",
    "df_part1['vacina_dataAplicacao'] = pd.to_datetime(df_part1['vacina_dataAplicacao'])\n",
    "df_part2['vacina_dataAplicacao'] = pd.to_datetime(df_part2['vacina_dataAplicacao'])"
   ]
  },
  {
   "cell_type": "code",
   "execution_count": 6,
   "metadata": {},
   "outputs": [],
   "source": [
    "# set date feature as index\n",
    "df_part0 = df_part0.set_index(['vacina_dataAplicacao'])\n",
    "df_part1 = df_part1.set_index(['vacina_dataAplicacao'])\n",
    "df_part2 = df_part2.set_index(['vacina_dataAplicacao'])"
   ]
  },
  {
   "cell_type": "code",
   "execution_count": 21,
   "metadata": {},
   "outputs": [],
   "source": [
    "# set correct dtypes\n",
    "df = df_part0[[\"document_id\", \"vacina_descricao_dose\"]]\n",
    "df = df.append([df_part1[[\"document_id\", \"vacina_descricao_dose\"]], df_part2[[\"document_id\", \"vacina_descricao_dose\"]]])\n"
   ]
  },
  {
   "cell_type": "code",
   "execution_count": 22,
   "metadata": {
    "collapsed": true
   },
   "outputs": [
    {
     "data": {
      "text/html": [
       "<div>\n",
       "<style scoped>\n",
       "    .dataframe tbody tr th:only-of-type {\n",
       "        vertical-align: middle;\n",
       "    }\n",
       "\n",
       "    .dataframe tbody tr th {\n",
       "        vertical-align: top;\n",
       "    }\n",
       "\n",
       "    .dataframe thead th {\n",
       "        text-align: right;\n",
       "    }\n",
       "</style>\n",
       "<table border=\"1\" class=\"dataframe\">\n",
       "  <thead>\n",
       "    <tr style=\"text-align: right;\">\n",
       "      <th></th>\n",
       "      <th>document_id</th>\n",
       "      <th>vacina_descricao_dose</th>\n",
       "    </tr>\n",
       "    <tr>\n",
       "      <th>vacina_dataAplicacao</th>\n",
       "      <th></th>\n",
       "      <th></th>\n",
       "    </tr>\n",
       "  </thead>\n",
       "  <tbody>\n",
       "    <tr>\n",
       "      <th>2021-07-29</th>\n",
       "      <td>bdfcf0f3-3c76-4d43-b89d-4794d4ff27de-i0b0</td>\n",
       "      <td>1ª Dose</td>\n",
       "    </tr>\n",
       "    <tr>\n",
       "      <th>2021-06-17</th>\n",
       "      <td>4b3982c0-2670-4eb8-b9f8-5f441ca9909c-i0b0</td>\n",
       "      <td>1ª Dose</td>\n",
       "    </tr>\n",
       "    <tr>\n",
       "      <th>2021-08-04</th>\n",
       "      <td>be027a38-ae18-4363-b1bc-b47737cdad2a-i0b0</td>\n",
       "      <td>2ª Dose</td>\n",
       "    </tr>\n",
       "    <tr>\n",
       "      <th>2021-08-16</th>\n",
       "      <td>4b462331-25fd-4306-bb90-e77b670503aa-i0b0</td>\n",
       "      <td>1ª Dose</td>\n",
       "    </tr>\n",
       "    <tr>\n",
       "      <th>2021-08-10</th>\n",
       "      <td>be036555-acff-4d45-a858-a7dab610755d-i0b0</td>\n",
       "      <td>1ª Dose</td>\n",
       "    </tr>\n",
       "    <tr>\n",
       "      <th>...</th>\n",
       "      <td>...</td>\n",
       "      <td>...</td>\n",
       "    </tr>\n",
       "    <tr>\n",
       "      <th>2021-04-30</th>\n",
       "      <td>a2ebb928-7cc2-43be-9098-e41205f57031-i0b0</td>\n",
       "      <td>1ª Dose</td>\n",
       "    </tr>\n",
       "    <tr>\n",
       "      <th>2021-04-23</th>\n",
       "      <td>a2f18bf6-bf22-4770-aec2-a1c97f051f3c-i0b0</td>\n",
       "      <td>1ª Dose</td>\n",
       "    </tr>\n",
       "    <tr>\n",
       "      <th>2021-10-26</th>\n",
       "      <td>a30b7733-a437-4046-8f54-fb4de931d6e2-i0b0</td>\n",
       "      <td>2ª Dose</td>\n",
       "    </tr>\n",
       "    <tr>\n",
       "      <th>2021-04-30</th>\n",
       "      <td>a3157dca-6559-43f8-9119-8527e18b1ccf-i0b0</td>\n",
       "      <td>1ª Dose</td>\n",
       "    </tr>\n",
       "    <tr>\n",
       "      <th>2021-08-12</th>\n",
       "      <td>a33297ff-3ffb-4938-b7c1-5f16ea82511e-i0b0</td>\n",
       "      <td>1ª Dose</td>\n",
       "    </tr>\n",
       "  </tbody>\n",
       "</table>\n",
       "<p>5709517 rows × 2 columns</p>\n",
       "</div>"
      ],
      "text/plain": [
       "                                                    document_id  \\\n",
       "vacina_dataAplicacao                                              \n",
       "2021-07-29            bdfcf0f3-3c76-4d43-b89d-4794d4ff27de-i0b0   \n",
       "2021-06-17            4b3982c0-2670-4eb8-b9f8-5f441ca9909c-i0b0   \n",
       "2021-08-04            be027a38-ae18-4363-b1bc-b47737cdad2a-i0b0   \n",
       "2021-08-16            4b462331-25fd-4306-bb90-e77b670503aa-i0b0   \n",
       "2021-08-10            be036555-acff-4d45-a858-a7dab610755d-i0b0   \n",
       "...                                                         ...   \n",
       "2021-04-30            a2ebb928-7cc2-43be-9098-e41205f57031-i0b0   \n",
       "2021-04-23            a2f18bf6-bf22-4770-aec2-a1c97f051f3c-i0b0   \n",
       "2021-10-26            a30b7733-a437-4046-8f54-fb4de931d6e2-i0b0   \n",
       "2021-04-30            a3157dca-6559-43f8-9119-8527e18b1ccf-i0b0   \n",
       "2021-08-12            a33297ff-3ffb-4938-b7c1-5f16ea82511e-i0b0   \n",
       "\n",
       "                     vacina_descricao_dose  \n",
       "vacina_dataAplicacao                        \n",
       "2021-07-29                         1ª Dose  \n",
       "2021-06-17                         1ª Dose  \n",
       "2021-08-04                         2ª Dose  \n",
       "2021-08-16                         1ª Dose  \n",
       "2021-08-10                         1ª Dose  \n",
       "...                                    ...  \n",
       "2021-04-30                         1ª Dose  \n",
       "2021-04-23                         1ª Dose  \n",
       "2021-10-26                         2ª Dose  \n",
       "2021-04-30                         1ª Dose  \n",
       "2021-08-12                         1ª Dose  \n",
       "\n",
       "[5709517 rows x 2 columns]"
      ]
     },
     "metadata": {},
     "output_type": "display_data"
    }
   ],
   "source": [
    "# visualize data\n",
    "display(df)"
   ]
  },
  {
   "cell_type": "code",
   "execution_count": 24,
   "metadata": {},
   "outputs": [],
   "source": [
    "# Create dummies\n",
    "# vacina_descricao_dose\n",
    "dummy = pd.get_dummies(df[\"vacina_descricao_dose\"], drop_first = True)\n",
    "df = pd.concat([df, dummy], axis = 1)\n",
    "df.drop(\"vacina_descricao_dose\", inplace = True, axis = 1)"
   ]
  },
  {
   "cell_type": "code",
   "execution_count": 29,
   "metadata": {},
   "outputs": [],
   "source": [
    "# rename index as 'date'\n",
    "df.index.names = ['date']"
   ]
  },
  {
   "cell_type": "code",
   "execution_count": 32,
   "metadata": {},
   "outputs": [],
   "source": [
    "# group doses information by date\n",
    "df = df.groupby(level = \"date\").sum()"
   ]
  },
  {
   "cell_type": "code",
   "execution_count": 35,
   "metadata": {},
   "outputs": [],
   "source": [
    "# sum doses application by date\n",
    "df[\"DoseTotal\"] = df.sum(axis = 1)"
   ]
  },
  {
   "cell_type": "code",
   "execution_count": 37,
   "metadata": {},
   "outputs": [],
   "source": [
    "# save dataframe\n",
    "df.to_csv(\"vacinas.csv\")"
   ]
  }
 ],
 "metadata": {
  "kernelspec": {
   "display_name": "Python 3",
   "language": "python",
   "name": "python3"
  },
  "language_info": {
   "codemirror_mode": {
    "name": "ipython",
    "version": 3
   },
   "file_extension": ".py",
   "mimetype": "text/x-python",
   "name": "python",
   "nbconvert_exporter": "python",
   "pygments_lexer": "ipython3",
   "version": "3.8.5"
  }
 },
 "nbformat": 4,
 "nbformat_minor": 4
}
